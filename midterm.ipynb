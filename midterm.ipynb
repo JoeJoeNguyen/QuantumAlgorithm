{
 "cells": [
  {
   "cell_type": "code",
   "execution_count": 1,
   "metadata": {},
   "outputs": [],
   "source": [
    "from qiskit import *\n",
    "from qiskit.quantum_info import Operator\n",
    "import numpy as np"
   ]
  },
  {
   "cell_type": "code",
   "execution_count": 2,
   "metadata": {},
   "outputs": [
    {
     "ename": "ValueError",
     "evalue": "Input matrix is not unitary.",
     "output_type": "error",
     "traceback": [
      "\u001b[0;31m---------------------------------------------------------------------------\u001b[0m",
      "\u001b[0;31mValueError\u001b[0m                                Traceback (most recent call last)",
      "Cell \u001b[0;32mIn[2], line 16\u001b[0m\n\u001b[1;32m     14\u001b[0m X_unitary_gate \u001b[38;5;241m=\u001b[39m UnitaryGate(X_unitary\u001b[38;5;241m.\u001b[39mdata, label\u001b[38;5;241m=\u001b[39m\u001b[38;5;124m'\u001b[39m\u001b[38;5;124mX\u001b[39m\u001b[38;5;124m'\u001b[39m)\n\u001b[1;32m     15\u001b[0m X_unitary_inv_gate \u001b[38;5;241m=\u001b[39m UnitaryGate(X_unitary_inv\u001b[38;5;241m.\u001b[39mdata, label\u001b[38;5;241m=\u001b[39m\u001b[38;5;124m'\u001b[39m\u001b[38;5;124mX^-1\u001b[39m\u001b[38;5;124m'\u001b[39m)\n\u001b[0;32m---> 16\u001b[0m Y_unitary_gate \u001b[38;5;241m=\u001b[39m \u001b[43mUnitaryGate\u001b[49m\u001b[43m(\u001b[49m\u001b[43mY_unitary\u001b[49m\u001b[38;5;241;43m.\u001b[39;49m\u001b[43mdata\u001b[49m\u001b[43m,\u001b[49m\u001b[43m \u001b[49m\u001b[43mlabel\u001b[49m\u001b[38;5;241;43m=\u001b[39;49m\u001b[38;5;124;43m'\u001b[39;49m\u001b[38;5;124;43mY\u001b[39;49m\u001b[38;5;124;43m'\u001b[39;49m\u001b[43m)\u001b[49m\n\u001b[1;32m     17\u001b[0m Y_unitary_inv_gate \u001b[38;5;241m=\u001b[39m UnitaryGate(Y_unitary_inv\u001b[38;5;241m.\u001b[39mdata, label\u001b[38;5;241m=\u001b[39m\u001b[38;5;124m'\u001b[39m\u001b[38;5;124mY^-1\u001b[39m\u001b[38;5;124m'\u001b[39m)\n\u001b[1;32m     19\u001b[0m CX_unitary_gate \u001b[38;5;241m=\u001b[39m X_unitary_gate\u001b[38;5;241m.\u001b[39mcontrol()\n",
      "File \u001b[0;32m~/anaconda3/envs/qiskit/lib/python3.12/site-packages/qiskit/circuit/library/generalized_gates/unitary.py:102\u001b[0m, in \u001b[0;36mUnitaryGate.__init__\u001b[0;34m(self, data, label, check_input, num_qubits)\u001b[0m\n\u001b[1;32m     99\u001b[0m \u001b[38;5;28;01mif\u001b[39;00m check_input:\n\u001b[1;32m    100\u001b[0m     \u001b[38;5;66;03m# Check input is unitary\u001b[39;00m\n\u001b[1;32m    101\u001b[0m     \u001b[38;5;28;01mif\u001b[39;00m \u001b[38;5;129;01mnot\u001b[39;00m is_unitary_matrix(data):\n\u001b[0;32m--> 102\u001b[0m         \u001b[38;5;28;01mraise\u001b[39;00m \u001b[38;5;167;01mValueError\u001b[39;00m(\u001b[38;5;124m\"\u001b[39m\u001b[38;5;124mInput matrix is not unitary.\u001b[39m\u001b[38;5;124m\"\u001b[39m)\n\u001b[1;32m    103\u001b[0m     \u001b[38;5;66;03m# Check input is N-qubit matrix\u001b[39;00m\n\u001b[1;32m    104\u001b[0m     \u001b[38;5;28;01mif\u001b[39;00m input_dim \u001b[38;5;241m!=\u001b[39m output_dim \u001b[38;5;129;01mor\u001b[39;00m \u001b[38;5;241m2\u001b[39m\u001b[38;5;241m*\u001b[39m\u001b[38;5;241m*\u001b[39mnum_qubits \u001b[38;5;241m!=\u001b[39m input_dim:\n",
      "\u001b[0;31mValueError\u001b[0m: Input matrix is not unitary."
     ]
    }
   ],
   "source": [
    "from qiskit import QuantumCircuit\n",
    "from qiskit.quantum_info import Operator\n",
    "from qiskit.circuit.library import UnitaryGate\n",
    "import numpy as np\n",
    "\n",
    "qc = QuantumCircuit(3)\n",
    "X_unitary = Operator(1/np.sqrt(2)*np.array([[-1j, -1], [1, 1j]]))\n",
    "X_unitary_inv = X_unitary.adjoint()\n",
    "\n",
    "Y_unitary = Operator(1/np.sqrt(2)*np.array([[0, 1], [-1, 0]]))\n",
    "Y_unitary_inv = Y_unitary.adjoint()\n",
    "\n",
    "# Create a UnitaryGate from the Y_unitary_inv operator\n",
    "X_unitary_gate = UnitaryGate(X_unitary.data, label='X')\n",
    "X_unitary_inv_gate = UnitaryGate(X_unitary_inv.data, label='X^-1')\n",
    "Y_unitary_gate = UnitaryGate(Y_unitary.data, label='Y')\n",
    "Y_unitary_inv_gate = UnitaryGate(Y_unitary_inv.data, label='Y^-1')\n",
    "\n",
    "CX_unitary_gate = X_unitary_gate.control()\n",
    "CY_unitary_gate = Y_unitary_gate.control()\n",
    "CX_unitary_inv = X_unitary_inv_gate.control()\n",
    "CY_unitary_inv = Y_unitary_inv_gate.control()\n",
    "\n",
    "qc.append(CY_unitary_inv, [0, 2])\n",
    "\n",
    "qc.append(CX_unitary_inv, [1, 2])\n",
    "\n",
    "qc.draw(output='mpl')"
   ]
  },
  {
   "cell_type": "code",
   "execution_count": null,
   "metadata": {},
   "outputs": [
    {
     "data": {
      "text/latex": [
       "$$\n",
       "\n",
       "\\begin{bmatrix}\n",
       "\\frac{\\sqrt{2} i}{2} & \\frac{\\sqrt{2}}{2}  \\\\\n",
       " - \\frac{\\sqrt{2}}{2} & - \\frac{\\sqrt{2} i}{2}  \\\\\n",
       " \\end{bmatrix}\n",
       "$$"
      ],
      "text/plain": [
       "<IPython.core.display.Latex object>"
      ]
     },
     "execution_count": 3,
     "metadata": {},
     "output_type": "execute_result"
    }
   ],
   "source": [
    "X_unitary_inv.draw('latex')"
   ]
  },
  {
   "cell_type": "code",
   "execution_count": null,
   "metadata": {},
   "outputs": [
    {
     "data": {
      "text/latex": [
       "$$\n",
       "\n",
       "\\begin{bmatrix}\n",
       "- \\frac{\\sqrt{2} i}{2} & - \\frac{\\sqrt{2}}{2}  \\\\\n",
       " \\frac{\\sqrt{2}}{2} & \\frac{\\sqrt{2} i}{2}  \\\\\n",
       " \\end{bmatrix}\n",
       "$$"
      ],
      "text/plain": [
       "<IPython.core.display.Latex object>"
      ]
     },
     "execution_count": 4,
     "metadata": {},
     "output_type": "execute_result"
    }
   ],
   "source": [
    "X_unitary.draw('latex')"
   ]
  },
  {
   "cell_type": "code",
   "execution_count": null,
   "metadata": {},
   "outputs": [
    {
     "data": {
      "text/latex": [
       "$$\n",
       "\n",
       "\\begin{bmatrix}\n",
       "1 & 0 & 0 & 0 & 0 & 0 & 0 & 0  \\\\\n",
       " 0 & 1 & 0 & 0 & 0 & 0 & 0 & 0  \\\\\n",
       " 0 & 0 & \\frac{\\sqrt{2} i}{2} & 0 & 0 & 0 & \\frac{\\sqrt{2}}{2} & 0  \\\\\n",
       " 0 & 0 & 0 & \\frac{\\sqrt{2} i}{2} & 0 & 0 & 0 & \\frac{\\sqrt{2}}{2}  \\\\\n",
       " 0 & 0 & 0 & 0 & 1 & 0 & 0 & 0  \\\\\n",
       " 0 & 0 & 0 & 0 & 0 & 1 & 0 & 0  \\\\\n",
       " 0 & 0 & - \\frac{\\sqrt{2}}{2} & 0 & 0 & 0 & - \\frac{\\sqrt{2} i}{2} & 0  \\\\\n",
       " 0 & 0 & 0 & - \\frac{\\sqrt{2}}{2} & 0 & 0 & 0 & - \\frac{\\sqrt{2} i}{2}  \\\\\n",
       " \\end{bmatrix}\n",
       "$$"
      ],
      "text/plain": [
       "<IPython.core.display.Latex object>"
      ]
     },
     "execution_count": 5,
     "metadata": {},
     "output_type": "execute_result"
    }
   ],
   "source": [
    "Operator(qc).draw('latex')"
   ]
  },
  {
   "cell_type": "code",
   "execution_count": 2,
   "metadata": {},
   "outputs": [
    {
     "name": "stdout",
     "output_type": "stream",
     "text": [
      "[[0.5 0. ]\n",
      " [0.  0.5]]\n"
     ]
    }
   ],
   "source": [
    "import numpy as np\n",
    "\n",
    "U = 1/np.sqrt(2) * np.array([[0, 1], [-1, 0]])\n",
    "U_dagger = U.conj().T  # conjugate transpose\n",
    "\n",
    "# Check U†U\n",
    "result = U_dagger @ U\n",
    "print(result)"
   ]
  },
  {
   "cell_type": "code",
   "execution_count": null,
   "metadata": {},
   "outputs": [],
   "source": []
  }
 ],
 "metadata": {
  "kernelspec": {
   "display_name": "Python 3",
   "language": "python",
   "name": "python3"
  },
  "language_info": {
   "codemirror_mode": {
    "name": "ipython",
    "version": 3
   },
   "file_extension": ".py",
   "mimetype": "text/x-python",
   "name": "python",
   "nbconvert_exporter": "python",
   "pygments_lexer": "ipython3",
   "version": "3.12.4"
  }
 },
 "nbformat": 4,
 "nbformat_minor": 2
}
